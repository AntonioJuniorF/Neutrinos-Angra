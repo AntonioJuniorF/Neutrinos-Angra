{
 "cells": [
  {
   "cell_type": "code",
   "execution_count": 1,
   "metadata": {},
   "outputs": [],
   "source": [
    "import pandas as pd\n",
    "import numpy as np\n",
    "import matplotlib.pyplot as plt\n",
    "import glob\n",
    "import arrow\n",
    "import datetime\n",
    "import pytz\n",
    "%matplotlib inline\n",
    "import timeit"
   ]
  },
  {
   "cell_type": "markdown",
   "metadata": {},
   "source": [
    "# Listando os arquivos"
   ]
  },
  {
   "cell_type": "code",
   "execution_count": 2,
   "metadata": {},
   "outputs": [],
   "source": [
    "ts = []\n",
    "ts1 = []\n",
    "dia       = []\n",
    "cont_MES  = []\n",
    "cont0     = []\n",
    "diretorio = [\"/data2/raw/*\",\"/data3/raw/*\"]\n",
    "ref1      = ['/data2/raw/AngraRun_T','/data3/raw/AngraRun_T']\n",
    "\n",
    "for j in range(len(diretorio)):\n",
    "    List = glob.glob(diretorio[j]) # listando todos os dados\n",
    "    for i in range(len(List)):\n",
    "        if List[i][0:21] != ref1[j]:\n",
    "            cont0.append(List[i])\n",
    "for i in range(len(cont0)):\n",
    "    ts.append(int(np.array(cont0)[i][20:-8]))\n",
    "    ts1.append(np.array(cont0)[i])"
   ]
  },
  {
   "cell_type": "code",
   "execution_count": 3,
   "metadata": {},
   "outputs": [],
   "source": [
    "\n",
    "ind=np.argsort(ts)\n",
    "ts=np.sort(ts)"
   ]
  },
  {
   "cell_type": "code",
   "execution_count": 4,
   "metadata": {},
   "outputs": [],
   "source": [
    "ts1=np.array(ts1)[ind]"
   ]
  },
  {
   "cell_type": "code",
   "execution_count": 5,
   "metadata": {},
   "outputs": [],
   "source": [
    "matrix=np.concatenate((ts.reshape(-1,1),ts1.reshape(-1,1)), axis = 1)"
   ]
  },
  {
   "cell_type": "code",
   "execution_count": 6,
   "metadata": {},
   "outputs": [],
   "source": [
    "df = pd.DataFrame(np.array(matrix), columns=['epoch','pacote'])"
   ]
  },
  {
   "cell_type": "code",
   "execution_count": 7,
   "metadata": {},
   "outputs": [],
   "source": [
    "#df.to_csv('Datas.csv')"
   ]
  },
  {
   "cell_type": "code",
   "execution_count": 8,
   "metadata": {},
   "outputs": [],
   "source": [
    "df['Timestamp'] = pd.to_datetime(df[df.columns[0]],unit='s')\n",
    "df['Timestamp'] = df['Timestamp'].dt.tz_localize('UTC').dt.tz_convert('America/Sao_Paulo')\n",
    "df.index        = df['Timestamp']#df['Data'] = df.index.date"
   ]
  },
  {
   "cell_type": "code",
   "execution_count": 9,
   "metadata": {},
   "outputs": [],
   "source": [
    "#df"
   ]
  },
  {
   "cell_type": "code",
   "execution_count": 10,
   "metadata": {},
   "outputs": [],
   "source": [
    "#df['Data']\n",
    "\n",
    "df.to_csv('Datas.csv')"
   ]
  },
  {
   "cell_type": "code",
   "execution_count": 11,
   "metadata": {},
   "outputs": [],
   "source": [
    "data = []\n",
    "\n",
    "for i in range(len(np.unique(df.index.date))):\n",
    "    data.append(np.sum(df.index.date == np.unique(df.index.date)[i]))"
   ]
  },
  {
   "cell_type": "code",
   "execution_count": 12,
   "metadata": {},
   "outputs": [],
   "source": [
    "dias = np.unique(df.index.date)[np.array(data) > 46]"
   ]
  },
  {
   "cell_type": "code",
   "execution_count": 13,
   "metadata": {},
   "outputs": [],
   "source": [
    "ano =[]\n",
    "\n",
    "for i in range(len(dias)):\n",
    "    ano.append(dias[i].year)\n"
   ]
  },
  {
   "cell_type": "code",
   "execution_count": 14,
   "metadata": {},
   "outputs": [],
   "source": [
    "dias = dias[np.array(ano) >2018]"
   ]
  },
  {
   "cell_type": "code",
   "execution_count": 15,
   "metadata": {},
   "outputs": [],
   "source": [
    "#dias = np.unique(dias)"
   ]
  },
  {
   "cell_type": "code",
   "execution_count": 16,
   "metadata": {},
   "outputs": [],
   "source": [
    "mes =[]\n",
    "dia =[]\n",
    "for i in range(len(dias)):\n",
    "    mes.append(dias[i].month)\n",
    "    dia.append(dias[i].day)"
   ]
  },
  {
   "cell_type": "code",
   "execution_count": 17,
   "metadata": {},
   "outputs": [
    {
     "name": "stdout",
     "output_type": "stream",
     "text": [
      "Janeiro [ 1  2  3  4  5  6  7  8  9 10 11 12 13 14 15 16 17 18 19 20 21 22 23 24\n",
      " 25 26 27 28 29 30 31]\n",
      "Fevereiro [ 1  2  3  4  5  6  7  8  9 10 11 12 13 14 15 16 17 18 19 20 21 22 23 24\n",
      " 26 27]\n",
      "Março [ 1  2  3  4  5  6  7  8  9 10 11 14 15 16 17 18 19 20 23 24 25 26 27 28\n",
      " 29 30 31]\n",
      "Abril [ 1 19 20 22 23 24 25 26 27 28 29 30]\n",
      "Maio [ 1  2  3  4  5  6  7  8  9 10 11 12 13 14 15 16 17 18 19 20 21 22 23 24\n",
      " 25 26 27 28 29 30 31]\n",
      "Junho [ 1  2  3  4  5  6  7  8  9 10 11 12 13 14 15 16 17 18 19 20 21 22 23 24\n",
      " 25 26]\n",
      "Julho [18 19 20 21 22 23 24 25 26 27 28 29 30 31]\n",
      "Agosto [ 1  2  3  4  5  6  7  8  9 10 11 12 13 14 15 16 17 18 19 20 21 22 31]\n",
      "Setembro [ 1  2  3  4  5  6  7  8  9 10 11 12 13 14 15 16 17 18 19 20 21]\n"
     ]
    }
   ],
   "source": [
    "meses = ['Janeiro','Fevereiro','Março','Abril','Maio','Junho','Julho','Agosto','Setembro']\n",
    "\n",
    "for i in range(len(meses)):\n",
    "    print(meses[i], np.array(dia)[np.array(mes) == i + 1] )"
   ]
  },
  {
   "cell_type": "markdown",
   "metadata": {},
   "source": [
    "# Dias que os arquivos rodaram em modo testrun\n",
    "* Janeiro -> Nenhum dia\n",
    "* Fevereiro -> dia 25\n",
    "* Março -> dias 12 e 13 , 21 e 22\n",
    "* Abril -> dia 2 a dia 22\n",
    "* junho -> ate o dia 25\n",
    "* Julho -> ate dia 17\n",
    "* Agosto -> dia 23 a 30\n",
    "* Setembro -> dia 22 em adiante"
   ]
  },
  {
   "cell_type": "markdown",
   "metadata": {},
   "source": [
    "# Criando um dataflame com estas informações"
   ]
  },
  {
   "cell_type": "code",
   "execution_count": 18,
   "metadata": {},
   "outputs": [],
   "source": [
    "df = pd.DataFrame(np.array(dias).reshape(-1,1), columns=['Data'])"
   ]
  },
  {
   "cell_type": "code",
   "execution_count": 19,
   "metadata": {},
   "outputs": [],
   "source": [
    "#df['Data'][0:60]\n",
    "df.to_csv('Datas_on.csv')"
   ]
  },
  {
   "cell_type": "code",
   "execution_count": null,
   "metadata": {},
   "outputs": [],
   "source": []
  }
 ],
 "metadata": {
  "kernelspec": {
   "display_name": "Python 3",
   "language": "python",
   "name": "python3"
  },
  "language_info": {
   "codemirror_mode": {
    "name": "ipython",
    "version": 3
   },
   "file_extension": ".py",
   "mimetype": "text/x-python",
   "name": "python",
   "nbconvert_exporter": "python",
   "pygments_lexer": "ipython3",
   "version": "3.5.2"
  }
 },
 "nbformat": 4,
 "nbformat_minor": 2
}
