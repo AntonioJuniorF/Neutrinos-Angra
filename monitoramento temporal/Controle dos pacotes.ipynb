{
 "cells": [
  {
   "cell_type": "markdown",
   "metadata": {},
   "source": [
    "# Biblioteca"
   ]
  },
  {
   "cell_type": "code",
   "execution_count": 1,
   "metadata": {},
   "outputs": [],
   "source": [
    "import pandas as pd\n",
    "import numpy as np\n",
    "import matplotlib.pyplot as plt\n",
    "import glob\n",
    "import arrow\n",
    "import datetime\n",
    "import pytz\n",
    "%matplotlib inline"
   ]
  },
  {
   "cell_type": "markdown",
   "metadata": {},
   "source": [
    "# Procurando os dados entre os meses de março e abril"
   ]
  },
  {
   "cell_type": "code",
   "execution_count": null,
   "metadata": {},
   "outputs": [],
   "source": [
    "ts = []\n",
    "ts1 = []\n",
    "dia       = []\n",
    "cont_MES  = []\n",
    "cont0     = []\n",
    "diretorio = [\"/data2/raw/*\",\"/data3/raw/*\"]\n",
    "ref1      = ['/data2/raw/AngraRun_T','/data3/raw/AngraRun_T']\n",
    "\n",
    "for j in range(len(diretorio)):\n",
    "    List = glob.glob(diretorio[j]) # listando todos os dados\n",
    "    for i in range(len(List)):\n",
    "        if List[i][0:21] != ref1[j]:\n",
    "            cont0.append(List[i])\n",
    "for i in range(len(cont0)):\n",
    "    ts.append(int(np.array(cont0)[i][20:-8]))\n",
    "    ts1.append(np.array(cont0)[i])"
   ]
  },
  {
   "cell_type": "code",
   "execution_count": null,
   "metadata": {},
   "outputs": [],
   "source": [
    "ts=np.sort(ts)\n",
    "ind=np.argsort(ts)"
   ]
  },
  {
   "cell_type": "code",
   "execution_count": null,
   "metadata": {},
   "outputs": [],
   "source": []
  },
  {
   "cell_type": "code",
   "execution_count": null,
   "metadata": {},
   "outputs": [],
   "source": []
  },
  {
   "cell_type": "code",
   "execution_count": null,
   "metadata": {},
   "outputs": [],
   "source": []
  },
  {
   "cell_type": "code",
   "execution_count": null,
   "metadata": {},
   "outputs": [],
   "source": []
  },
  {
   "cell_type": "code",
   "execution_count": null,
   "metadata": {},
   "outputs": [],
   "source": []
  },
  {
   "cell_type": "code",
   "execution_count": null,
   "metadata": {},
   "outputs": [],
   "source": []
  },
  {
   "cell_type": "code",
   "execution_count": 2,
   "metadata": {},
   "outputs": [],
   "source": [
    "def contron_pac(mes):\n",
    "\n",
    "\n",
    "    dia       = []\n",
    "    cont_MES  = []\n",
    "    cont0     = []\n",
    "    diretorio = [\"/data2/raw/*\",\"/data3/raw/*\"]\n",
    "    ref1      = ['/data2/raw/AngraRun_T','/data3/raw/AngraRun_T']\n",
    "\n",
    "    for j in range(len(diretorio)):\n",
    "        List = glob.glob(diretorio[j]) # listando todos os dados\n",
    "        for i in range(len(List)):\n",
    "            if List[i][0:21] != ref1[j]:\n",
    "                cont0.append(List[i])\n",
    "        for i in range(len(cont0)):\n",
    "            ts = int(np.array(cont0)[i][20:-8])\n",
    "            datas  = datetime.datetime.fromtimestamp(ts).strftime('%Y-%m-%d')\n",
    "            if datas[0:4] == '2019':\n",
    "                if datas[5:7] == mes:\n",
    "                    cont_MES.append(cont0[i])\n",
    "                    if datas[8] == '0':\n",
    "                        dia.append(datas[9])\n",
    "                    if datas[8] == '1':\n",
    "                        dia.append(datas[8:10])\n",
    "                    if datas[8] == '2':\n",
    "                        dia.append(datas[8:10])\n",
    "                    if datas[8] == '3':\n",
    "                        dia.append(datas[8:10])\n",
    "    \n",
    "    #cont0     = []\n",
    "  ##  mes_aux =['04','06','07']                  \n",
    "   # if np.sum(np.array(mes_aux) == mes) >0:\n",
    "   #     List  = glob.glob('/data1/data3/raw/*') # listando todos os dados\n",
    "  #      for i in range(len(List)):\n",
    "  #          ts     = int(np.array(List)[i][34:-8])\n",
    "  #          datas  = datetime.utcfromtimestamp(ts).strftime('%Y-%m-%d')\n",
    "   #         if datas[0:4] == '2019':\n",
    "  #              if datas[5:7] == mes:\n",
    "    #                cont_MES.append(List[i])\n",
    "   #                 if datas[8] == '0':\n",
    "   #                     dia.append(datas[9])\n",
    "   #                 if datas[8] == '1':\n",
    "    #                    dia.append(datas[8:10])\n",
    "    #                if datas[8] == '2':\n",
    "    #                    dia.append(datas[8:10])\n",
    "      ##              if datas[8] == '3':\n",
    "                     #   dia.append(datas[8:10])\n",
    "\n",
    "    #cont_MES.append(List)\n",
    "                    \n",
    "    return cont_MES,dia"
   ]
  },
  {
   "cell_type": "code",
   "execution_count": 3,
   "metadata": {},
   "outputs": [],
   "source": [
    "def dist_pedestais_Corrigida(df,STS,Num_NDAQ,flag):\n",
    "    if flag == 1:\n",
    "        ind_NDAQ                     = np.where(df['Slot Number'] == Num_NDAQ)\n",
    "        S                            = np.stack(df[STS])[ind_NDAQ]\n",
    "    else:\n",
    "        S = df\n",
    "    # parte 1\n",
    "    min_sinal                    = np.min(S,axis = 1).reshape(len(S),1)                                                       # valores minimos dos sinais\n",
    "    r                            = np.zeros((1,len(min_sinal)))[0]                                                            # Vetor dos pedestais dos sinais\n",
    "    ind_part1                    = np.where(np.sum(S[:,0:5] - min_sinal > 4,axis = 1) == 0)[0]                                # nn passo de < 4 adc ate os 5 primeiros pontos dos sinais\n",
    "    r[ind_part1]                 = np.mean(S[ind_part1,0:5],axis = 1)                                                         # valores dos pedestais dos sinais da primeira etapa\n",
    "    ind_part1_cont               = np.where(np.sum(S[:,0:5] - min_sinal > 4,axis = 1) > 0)[0]                                 # passo dos 4 adc nos Sinal[0:5]\n",
    "    # parte 2\n",
    "    ind_part2                    = np.where(np.sum(S[ind_part1_cont,45:50] - min_sinal[ind_part1_cont] > 4,axis = 1) == 0)[0] # nn passo dos 4 adc Sinal[45:50]\n",
    "    r[ind_part1_cont[ind_part2]] = np.mean(S[ind_part1_cont[ind_part2],45:50],axis = 1)\n",
    "    # parte 3\n",
    "    g                            = np.zeros((1,len(min_sinal)))[0]                                                            # Sinais que não atigim a condição da etapa 1 e da etapa 2\n",
    "    g[ind_part1]                 = 1\n",
    "    g[ind_part1_cont[ind_part2]] = 1\n",
    "    ind_part3                    = np.where(np.ones((1,len(min_sinal)))[0] - g ==1)[0]                                        # Sinais que nn atigiram a condição da parte 1 e 2\n",
    "    for i in range(0,len(ind_part3)):\n",
    "        par = np.sum(S[ind_part3][i].reshape(10,5) - min_sinal[ind_part3][i] >4,axis = 1) \n",
    "        if np.sum(par == 0) > 0:\n",
    "            k         = np.where(par == 0)[0]\n",
    "            r[ind_part3[i]] = np.mean(S[ind_part3][i,5*(k[0]):5*(k[0]) + 5])\n",
    "        else:\n",
    "            k               = np.argmin(par)\n",
    "            r[ind_part3[i]] = min_sinal[ind_part3][i] + 2 \n",
    "    \n",
    "    return r\n",
    "\n",
    "\n",
    "def carga(df,STS,canal):\n",
    "    df         = np.stack(df[STS])\n",
    "    pos_amost  = np.argmax(df[canal], axis = 1)\n",
    "    ind        = np.where((pos_amost > 9) & (pos_amost<20))\n",
    "    df         = df[ind]\n",
    "    Pedestal   = dist_pedestais_Corrigida(df,STS,Num_NDAQ,flag=0)\n",
    "    Amp        = np.max(df-Pedestal.reshape((len(Pedestal),1)), axis =1)\n",
    "    Amp        = np.max(df, axis = 1)\n",
    "    df         = df[Amp>3]\n",
    "    cg         = np.sum(df, axis = 1)\n",
    "    return cg"
   ]
  },
  {
   "cell_type": "markdown",
   "metadata": {},
   "source": [
    "# Olhando os dias que não houve nenhuma opereção em teste run"
   ]
  },
  {
   "cell_type": "code",
   "execution_count": 4,
   "metadata": {},
   "outputs": [],
   "source": [
    "MES = ['02']"
   ]
  },
  {
   "cell_type": "code",
   "execution_count": 5,
   "metadata": {},
   "outputs": [],
   "source": [
    "D = []"
   ]
  },
  {
   "cell_type": "code",
   "execution_count": 8,
   "metadata": {},
   "outputs": [],
   "source": [
    "for i in range(len(MES)):\n",
    "    aux          = []\n",
    "    mes          = MES[i]\n",
    "    cont_MES,dia = contron_pac(mes)\n",
    "    d = np.unique(np.int64(dia))\n",
    "    #for j in range(len(d)):\n",
    "    #    pac  = np.array(list(cont_MES))[np.int64(dia) == d[j]]\n",
    "    #    if len(pac) > 40:\n",
    "    #        aux.append(d[j])\n",
    "    #D.append(np.array(aux))"
   ]
  },
  {
   "cell_type": "code",
   "execution_count": 9,
   "metadata": {},
   "outputs": [
    {
     "data": {
      "text/plain": [
       "array([ 1,  2,  3,  4,  5,  6,  7,  8,  9, 10, 11, 12, 13, 14, 15, 16, 17,\n",
       "       18, 19, 20, 21, 22, 23, 24, 25, 26, 27, 28])"
      ]
     },
     "execution_count": 9,
     "metadata": {},
     "output_type": "execute_result"
    }
   ],
   "source": [
    "d"
   ]
  },
  {
   "cell_type": "markdown",
   "metadata": {},
   "source": [
    "# Criando um dataflame com as informações de operação do detector"
   ]
  },
  {
   "cell_type": "code",
   "execution_count": null,
   "metadata": {},
   "outputs": [],
   "source": [
    "mar = ['01-03','02-03','03-03','04-03','05-03','06-03','07-03','08-03','09-03','10-03',\n",
    "         '11-03','12-03','13-03','14-03','15-03','16-03','17-03','18-03','19-03','20-03',\n",
    "         '21-03','22-03','23-03','24-03','25-03','26-03','27-03','28-03','29-03','30-03','31-03']\n",
    "\n",
    "abril = ['01-04','02-04','03-04','04-04','05-04','06-04','07-04','08-04','09-04','10-04',\n",
    "         '11-04','12-04','13-04','14-04','15-04','16-04','17-04','18-04','19-04','20-04',\n",
    "         '21-04','22-04','23-04','24-04','25-04','26-04','27-04','28-04','29-04','30-04']\n",
    "\n",
    "maio = ['01-05','02-05','03-05','04-05','05-05','06-05','07-05','08-05','09-05','10-05',\n",
    "        '11-05','12-05','13-05','14-05','15-05','16-05','17-05','18-05','19-05','20-05',\n",
    "        '21-05','22-05','23-05','24-05','25-05','26-05','27-05','28-05','29-05','30-05','31-05']\n",
    "\n",
    "Jun = ['01-06','02-06','03-06','04-06','05-06','06-06','07-06','08-06','09-06','10-06',\n",
    "       '11-06','12-06','13-06','14-06','15-06','16-06','17-06','18-06','19-06','20-06',\n",
    "       '21-06','22-06','23-06','24-06','25-06','26-06','27-06','28-06','29-06','30-06']\n",
    "\n",
    "Jul = ['01-07','02-07','03-07','04-07','05-07','06-07','07-07','08-07','09-07','10-07',\n",
    "       '11-07','12-07','13-07','14-07','15-07','16-07','17-07','18-07','19-07','20-07',\n",
    "       '21-07','22-07','23-07','24-07','25-07','26-07','27-07','28-07','29-07','30-07','31-07']\n",
    "\n",
    "Agos = ['01-08','02-08','03-08','04-08','05-08','06-08','07-08','08-08','09-08','10-08',\n",
    "        '11-08','12-08','13-08','14-08','15-08','16-08','17-08','18-08','19-08','20-08',\n",
    "        '21-08','22-08','23-08','24-08','25-08','26-08','27-08','28-08','29-08','30-08','31-08']\n",
    "\n",
    "Set = ['01-09','02-09','03-09','04-09','05-09','06-09','07-09','08-09','09-09','10-09',\n",
    "       '11-09','12-09','13-09','14-09','15-09','16-09','17-09','18-09','19-09','20-09',\n",
    "       '21-09','22-09','23-09','24-09','25-09','26-09','27-09','28-09','29-09','30-09']\n"
   ]
  },
  {
   "cell_type": "raw",
   "metadata": {},
   "source": [
    "março"
   ]
  },
  {
   "cell_type": "code",
   "execution_count": null,
   "metadata": {},
   "outputs": [],
   "source": [
    "#mes_março    = data_flame (D[0],mar)  # junho"
   ]
  },
  {
   "cell_type": "code",
   "execution_count": null,
   "metadata": {},
   "outputs": [],
   "source": [
    "#mar"
   ]
  },
  {
   "cell_type": "markdown",
   "metadata": {},
   "source": [
    "abril"
   ]
  },
  {
   "cell_type": "code",
   "execution_count": null,
   "metadata": {},
   "outputs": [],
   "source": [
    "mes_abril = 'Teste'\n",
    "mes_abril = np.repeat(np.array(mes_abril),len(abril))\n",
    "mes_abril[np.array(D[0])-1] = 'On'\n",
    "mes_abril[21:] = 'Off'"
   ]
  },
  {
   "cell_type": "markdown",
   "metadata": {},
   "source": [
    "maio"
   ]
  },
  {
   "cell_type": "code",
   "execution_count": null,
   "metadata": {},
   "outputs": [],
   "source": [
    "mes_maio = 'Teste'\n",
    "mes_maio = np.repeat(np.array(mes_maio),len(maio))\n",
    "mes_maio[np.array(D[1])-1] = 'On'\n",
    "mes_maio[:23] = 'Off'"
   ]
  },
  {
   "cell_type": "markdown",
   "metadata": {},
   "source": [
    "Outros meses"
   ]
  },
  {
   "cell_type": "code",
   "execution_count": null,
   "metadata": {},
   "outputs": [],
   "source": [
    "def data_flame (DD,aux_mes):\n",
    "    mes = 'Teste'\n",
    "    mes = np.repeat(np.array(mes),len(aux_mes))\n",
    "    mes[np.array(DD)-1] = 'On'\n",
    "   \n",
    "    return mes"
   ]
  },
  {
   "cell_type": "code",
   "execution_count": null,
   "metadata": {},
   "outputs": [],
   "source": [
    "mes_junho    = data_flame (D[2],Jun)  # junho\n",
    "mes_julho    = data_flame (D[3],Jul)  # julho\n",
    "mes_agosto   = data_flame (D[4],Agos) # Agosto\n",
    "mes_setembro = data_flame (D[5],Set) # Setembro"
   ]
  },
  {
   "cell_type": "code",
   "execution_count": null,
   "metadata": {},
   "outputs": [],
   "source": [
    "ope = np.concatenate((mes_abril,mes_maio,mes_junho,mes_julho,mes_agosto,mes_setembro))\n",
    "datas = np.concatenate((abril,maio,Jun,Jul,Agos,Set))"
   ]
  },
  {
   "cell_type": "code",
   "execution_count": null,
   "metadata": {},
   "outputs": [],
   "source": [
    "Testes = np.concatenate((datas.reshape(-1,1),ope.reshape(-1,1)), axis = 1)"
   ]
  },
  {
   "cell_type": "code",
   "execution_count": 23,
   "metadata": {},
   "outputs": [],
   "source": [
    "df = pd.DataFrame(Testes,columns=['Data','Operação'])"
   ]
  },
  {
   "cell_type": "code",
   "execution_count": 29,
   "metadata": {},
   "outputs": [],
   "source": [
    "df.to_parquet('/home/antoniojr/notebooks/monitoramento temporal/info')"
   ]
  },
  {
   "cell_type": "code",
   "execution_count": 28,
   "metadata": {},
   "outputs": [
    {
     "data": {
      "text/plain": [
       "array(['Off', 'On', 'Teste'], dtype=object)"
      ]
     },
     "execution_count": 28,
     "metadata": {},
     "output_type": "execute_result"
    }
   ],
   "source": [
    "np.unique(df.Operação.values)"
   ]
  },
  {
   "cell_type": "code",
   "execution_count": null,
   "metadata": {},
   "outputs": [],
   "source": []
  }
 ],
 "metadata": {
  "kernelspec": {
   "display_name": "Python 3",
   "language": "python",
   "name": "python3"
  },
  "language_info": {
   "codemirror_mode": {
    "name": "ipython",
    "version": 3
   },
   "file_extension": ".py",
   "mimetype": "text/x-python",
   "name": "python",
   "nbconvert_exporter": "python",
   "pygments_lexer": "ipython3",
   "version": "3.5.2"
  }
 },
 "nbformat": 4,
 "nbformat_minor": 2
}
